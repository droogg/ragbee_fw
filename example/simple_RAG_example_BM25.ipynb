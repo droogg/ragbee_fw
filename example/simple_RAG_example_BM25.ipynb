{
 "cells": [
  {
   "cell_type": "code",
   "execution_count": 3,
   "id": "7755221a",
   "metadata": {},
   "outputs": [
    {
     "name": "stderr",
     "output_type": "stream",
     "text": [
      "/usr/local/lib/python3.10/dist-packages/tqdm/auto.py:21: TqdmWarning: IProgress not found. Please update jupyter and ipywidgets. See https://ipywidgets.readthedocs.io/en/stable/user_install.html\n",
      "  from .autonotebook import tqdm as notebook_tqdm\n"
     ]
    }
   ],
   "source": [
    "import sys\n",
    "import os\n",
    "sys.path.append(os.path.abspath(path=\"..\"))\n",
    "from src.ragbee_fw.infrastructure.data_loader.file_loader import FileSystemLoader\n",
    "from src.ragbee_fw.infrastructure.text_splitter.recursive_text_splitter import RecursiveTextSplitter\n",
    "from src.ragbee_fw.infrastructure.retriever.bm25_client import BM25Client \n",
    "from src.ragbee_fw.infrastructure.llm_clients.huggingface_client import HuggingFaceInferenceAdapter\n",
    "\n",
    "from src.ragbee_fw.core.services.ingestion_service import IngestionService\n",
    "from src.ragbee_fw.core.services.answer_service import AnswerService"
   ]
  },
  {
   "cell_type": "code",
   "execution_count": null,
   "id": "40abaeb2",
   "metadata": {},
   "outputs": [],
   "source": [
    "loader = FileSystemLoader()\n",
    "chanker = RecursiveTextSplitter()\n",
    "retriever = BM25Client()\n",
    "llm = HuggingFaceInferenceAdapter(model_name=\"meta-llama/Llama-4-Scout-17B-16E-Instruct\",\n",
    "                                    provider=\"cerebras\",\n",
    "                                    token=\"you_token\",)\n"
   ]
  },
  {
   "cell_type": "code",
   "execution_count": 5,
   "id": "aa4c7ae5",
   "metadata": {},
   "outputs": [],
   "source": [
    "ingestion = IngestionService(\n",
    "    loader=loader,\n",
    "    chunker=chanker,\n",
    "    retriever=retriever\n",
    ")\n",
    "retriever = ingestion.build_index(\"/workspace/documents\")"
   ]
  },
  {
   "cell_type": "code",
   "execution_count": 10,
   "id": "c1b8fc98",
   "metadata": {},
   "outputs": [],
   "source": [
    "responsible = AnswerService(\n",
    "    retriever=retriever,\n",
    "    llm=llm\n",
    ")\n",
    "response = responsible.generate_answer(\n",
    "    query=\"что открывает период творческой зрелости великого скульптора? и о ком идет речь?\"\n",
    ")"
   ]
  },
  {
   "cell_type": "code",
   "execution_count": 11,
   "id": "e17f7cfe",
   "metadata": {},
   "outputs": [
    {
     "data": {
      "text/plain": [
       "'Период творческой зрелости великого скульптора открывают статуя Давида и статуя Мадонны. Речь идет о Микеланджело Буонарроти.'"
      ]
     },
     "execution_count": 11,
     "metadata": {},
     "output_type": "execute_result"
    }
   ],
   "source": [
    "response"
   ]
  }
 ],
 "metadata": {
  "kernelspec": {
   "display_name": "Python 3",
   "language": "python",
   "name": "python3"
  },
  "language_info": {
   "codemirror_mode": {
    "name": "ipython",
    "version": 3
   },
   "file_extension": ".py",
   "mimetype": "text/x-python",
   "name": "python",
   "nbconvert_exporter": "python",
   "pygments_lexer": "ipython3",
   "version": "3.10.12"
  }
 },
 "nbformat": 4,
 "nbformat_minor": 5
}
