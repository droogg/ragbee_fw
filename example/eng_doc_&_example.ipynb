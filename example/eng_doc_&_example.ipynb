{
 "cells": [
  {
   "cell_type": "markdown",
   "id": "fafc2d48",
   "metadata": {},
   "source": [
    "#### Quick Start: How to Use the RAG Framework in Your Application\n",
    "\n",
    "This example demonstrates the basic usage of the framework via a YAML configuration file and a Dependency Injection (DI) container.\n",
    "\n",
    "---\n",
    "\n",
    "This framework provides the infrastructure for building Retrieval-Augmented Generation (RAG) systems in Python.  \n",
    "It is designed according to the principles of Clean Architecture and uses YAML-based configuration and a DI container  \n",
    "to connect components such as retrievers, LLMs, data loaders, and more.\n"
   ]
  },
  {
   "cell_type": "markdown",
   "id": "25122a05",
   "metadata": {},
   "source": [
    "#### Framework Architecture\n",
    "\n",
    "The framework is designed in accordance with the principles of Clean Architecture:\n",
    "\n",
    "- **Ports** — interfaces that define what a component must implement (e.g., `LLMPort`, `RetrieverPort`).\n",
    "- **Adapters** — concrete implementations of those interfaces, such as `HuggingFaceInferenceAdapter`.\n",
    "- **DIContainer** — assembles adapters based on the configuration without violating isolation or scalability.\n",
    "\n",
    "This allows you to easily swap out adapters (e.g., replace HuggingFace with OpenAI or your own implementation) without touching the business logic.\n",
    "\n",
    "#### Glossary of Key Framework Components\n",
    "\n",
    "- **IngestionService** — responsible for data preparation: loading, chunking, and indexing in the retriever.\n",
    "- **AnswerService** — handles the main answering pipeline: extracting relevant documents and generating a response using the LLM.\n",
    "- **Retriever** — component responsible for searching documents. Its interface is defined in `RetrieverPort`.\n",
    "- **LLM** — large language model. The interface for response generation is defined in `LLMPort`.\n",
    "- **DIContainer** — a dependency injection container that builds and manages component lifecycles.\n",
    "- **ADAPTER_REGISTRY** — a global registry of interface implementations (adapters), available for configuration-based injection.\n",
    "\n",
    "The easiest way to get started with the framework is via a YAML configuration file and the dependency injection container.\n",
    "\n",
    "All you need to do is:\n",
    "\n",
    "- load a configured YAML file,\n",
    "- create an instance of the `DIContainer` and call `build_app_service()` to initialize the components,\n",
    "- use the `generate_answer` method to generate a response based on retrieved relevant documents.\n"
   ]
  },
  {
   "cell_type": "markdown",
   "id": "946c4568",
   "metadata": {},
   "source": [
    "Проще всего начать использование фреймворка с YAML-конфигурации и контейнера зависимостей.\n",
    "\n",
    "Все, что от вас требуется:\n",
    "- загрузить настроенный файл конфигурации,\n",
    "- создать экземпляр конструктора зависимостей `DIContainer` и вызвать метод построения этих зависимостей на основе файла конфигурации `build_app_service`,\n",
    "- воспользоваться методом генерации ответа на основе найденных релевантных документов `generate_answer`."
   ]
  },
  {
   "cell_type": "code",
   "execution_count": 2,
   "id": "5eb8f79e",
   "metadata": {},
   "outputs": [],
   "source": [
    "from ragbee_fw import load_config"
   ]
  },
  {
   "cell_type": "code",
   "execution_count": 3,
   "id": "953b0d78",
   "metadata": {},
   "outputs": [],
   "source": [
    "app_config_path = \"/workspace/src/ragbee_fw/config/app_config.yml\"\n",
    "app_config = load_config(app_config_path)\n",
    "app_config.llm.token = \"your_token\""
   ]
  },
  {
   "cell_type": "code",
   "execution_count": 4,
   "id": "6d7219c6",
   "metadata": {},
   "outputs": [],
   "source": [
    "from ragbee_fw import DIContainer\n",
    "\n",
    "\n",
    "container = DIContainer(app_config)\n",
    "app = container.build_app_service()"
   ]
  },
  {
   "cell_type": "markdown",
   "id": "52b7ceac",
   "metadata": {},
   "source": [
    "#### Result: Working with `AnswerService`\n",
    "\n",
    "As a result, we obtain an instance of the `AnswerService` class, which is designed for the main pipeline:\n",
    "\n",
    "- retrieving text fragments relevant to the user query,\n",
    "- generating a response using the LLM.\n"
   ]
  },
  {
   "cell_type": "code",
   "execution_count": 14,
   "id": "6b5c209c",
   "metadata": {},
   "outputs": [
    {
     "data": {
      "text/plain": [
       "ragbee_fw.core.services.answer_service.AnswerService"
      ]
     },
     "execution_count": 14,
     "metadata": {},
     "output_type": "execute_result"
    }
   ],
   "source": [
    "type(app)"
   ]
  },
  {
   "cell_type": "markdown",
   "id": "ac61f54f",
   "metadata": {},
   "source": [
    "You can now simply pass a question to the `generate_answer` method of the created `AnswerService` instance and get a response from the LLM."
   ]
  },
  {
   "cell_type": "code",
   "execution_count": null,
   "id": "3363d090",
   "metadata": {},
   "outputs": [],
   "source": [
    "response = app.generate_answer(query=\"какие были Испанские завоевания в Америке?\")"
   ]
  },
  {
   "cell_type": "code",
   "execution_count": 11,
   "id": "3264e735",
   "metadata": {},
   "outputs": [
    {
     "data": {
      "text/plain": [
       "'Испанские завоевания в Америке включали в себя несколько важных событий и кампаний, которые привели к колонизации значительной части американского континента. Вот ключевые моменты:\\n\\n1. **Экспедиция Кортеса в Мексику (1518 г.)**: Испанский губернатор Кубы отправил экспедицию под руководством Фернандо Кортеса в Мексику. Кортес высадился с 600 человек и, чтобы исключить возможность отступления, сжег все корабли.\\n\\n2. **Завоевание государства ацтеков (1521 г.)**: Кортес двинулся вглубь страны и достиг столицы ацтеков, Мехико. Первоначально ацтеки приняли испанцев за богов, но мирные отношения быстро закончились, и испанцы учинили погром. В 1521 году Кортес окончательно захватил и разграбил Мехико, а страну объявили собственностью испанского короля.\\n\\n3. **Завоевание империи инков (1532–1534 гг.)**: Франциско Писарро вторгся в империю инков в Южной Америке, захватил в плен их правителя, и к 1534 году государство инков было уничтожено.\\n\\n4. **Завоевание Венесуэлы (1525–1535 гг.)**: Испанцы также завоевали Венесуэлу, где нашли золото, что привело к легенде о волшебной стране Эльдорадо.\\n\\n5. **Колонизация Бразилии португальцами**: Началась в начале XVI века.\\n\\nЭти завоевания положили начало испанскому и португальскому колониальному господству в Америке, которое имело далеко идущие последствия для коренных народов и развития региона.'"
      ]
     },
     "execution_count": 11,
     "metadata": {},
     "output_type": "execute_result"
    }
   ],
   "source": [
    "response"
   ]
  },
  {
   "cell_type": "markdown",
   "id": "a5b9da98",
   "metadata": {},
   "source": [
    "---\n",
    "\n",
    "> **Note:** The DI container keeps all created objects in an internal dictionary called `_cache`.  \n",
    "> This may be useful when integrating custom modules or accessing shared dependencies manually."
   ]
  },
  {
   "cell_type": "code",
   "execution_count": 24,
   "id": "17456d20",
   "metadata": {},
   "outputs": [
    {
     "data": {
      "text/plain": [
       "dict_keys(['data_loader', 'text_chunker', 'retriever', 'retriever_with_index', 'llm'])"
      ]
     },
     "metadata": {},
     "output_type": "display_data"
    }
   ],
   "source": [
    "contain_obj = container._cache\n",
    "display(contain_obj.keys())"
   ]
  },
  {
   "cell_type": "code",
   "execution_count": 25,
   "id": "7eae272a",
   "metadata": {},
   "outputs": [
    {
     "data": {
      "text/plain": [
       "<ragbee_fw.infrastructure.retriever.bm25_client.BM25Client at 0x7ff36ef6b520>"
      ]
     },
     "metadata": {},
     "output_type": "display_data"
    }
   ],
   "source": [
    "retriever = contain_obj.get(\"retriever\")\n",
    "display(retriever)"
   ]
  },
  {
   "cell_type": "markdown",
   "id": "bde77190",
   "metadata": {},
   "source": [
    "#### Low-Level Control Over Dependencies and Custom Module Creation\n",
    "\n",
    "You can bypass the DI container and manually construct all dependencies.  \n",
    "This provides maximum flexibility and control when integrating custom modules.\n",
    "\n",
    "However, this approach requires a deeper understanding of the framework's architecture, including the relationships between ports and adapters in the spirit of hexagonal architecture.\n"
   ]
  },
  {
   "cell_type": "code",
   "execution_count": 5,
   "id": "993cb07b",
   "metadata": {},
   "outputs": [],
   "source": [
    "from ragbee_fw.infrastructure.data_loader.file_loader import FileSystemLoader\n",
    "from ragbee_fw.infrastructure.text_splitter.recursive_text_splitter import RecursiveTextSplitter\n",
    "from ragbee_fw.infrastructure.retriever.bm25_client import BM25Client \n",
    "from ragbee_fw.infrastructure.llm_clients.huggingface_client import HuggingFaceInferenceAdapter\n",
    "\n",
    "from ragbee_fw import IngestionService\n",
    "from ragbee_fw import AnswerService"
   ]
  },
  {
   "cell_type": "code",
   "execution_count": null,
   "id": "263ce84e",
   "metadata": {},
   "outputs": [],
   "source": [
    "loader = FileSystemLoader()\n",
    "chanker = RecursiveTextSplitter()\n",
    "retriever = BM25Client()\n",
    "llm = HuggingFaceInferenceAdapter(model_name=\"meta-llama/Llama-4-Scout-17B-16E-Instruct\",\n",
    "                                    provider=\"cerebras\",\n",
    "                                    token=\"your_token\",)\n"
   ]
  },
  {
   "cell_type": "markdown",
   "id": "5e3c15d0",
   "metadata": {},
   "source": [
    "At this point, you can build and inject any custom module into the pipeline that aligns with one of the following responsibilities:\n",
    "\n",
    "- data loading, chunking, and indexing — for `IngestionService`,  \n",
    "- document retrieval and answer generation — for `AnswerService`.\n",
    "\n",
    "All you need is to follow the port-based connection rules described in `ragbee_fw.core.ports`.\n"
   ]
  },
  {
   "cell_type": "code",
   "execution_count": null,
   "id": "9f309c4a",
   "metadata": {},
   "outputs": [],
   "source": [
    "ingestion = IngestionService(\n",
    "    loader=loader,\n",
    "    chunker=chanker,\n",
    "    retriever=retriever\n",
    ")\n",
    "retriever = ingestion.build_index(\"/workspace/documents\")"
   ]
  },
  {
   "cell_type": "code",
   "execution_count": null,
   "id": "413e5e28",
   "metadata": {},
   "outputs": [],
   "source": [
    "responsible = AnswerService(\n",
    "    retriever=retriever,\n",
    "    llm=llm\n",
    ")\n",
    "response = responsible.generate_answer(\n",
    "    query=\"какие были Испанские завоевания в Америке?\"\n",
    ")"
   ]
  },
  {
   "cell_type": "code",
   "execution_count": null,
   "id": "bbd859ae",
   "metadata": {},
   "outputs": [
    {
     "data": {
      "text/plain": [
       "'Испанские завоевания в Америке включали в себя несколько ключевых событий и завоеваний, которые существенно повлияли на историю региона. Вот основные моменты:\\n\\n1. **Экспедиция Кортеса в Мексику (1518 г.)**: Испанский губернатор острова Кубы отправил экспедицию под предводительством Фернандо Кортеса в Мексику. Кортес сжег все корабли после высадки, чтобы исключить возможность возвращения, и двинулся вглубь страны к государству ацтеков.\\n\\n2. **Захват Мехико (1521 г.)**: Испанцы беспрепятственно вошли в столицу ацтеков, Мехико, где их приняли за богов. Однако мирные отношения быстро закончились, и испанцы учинили погром. В 1521 году Кортес окончательно захватил и разграбил Мехико, объявив страну собственностью испанского короля.\\n\\n3. **Завоевание империи инков (1532 г.)**: Франциско Писарро вторгся в империю инков в Южной Америке и захватил в плен их правителя. К 1534 году государство инков было уничтожено.\\n\\n4. **Завоевание Венесуэлы (1525–1535 гг.)**: Испанцы окончательно завоевали Венесуэлу, где нашли золото и возникла легенда о волшебной стране Эльдорадо, богатой золотом. Однако поиски Эльдорадо были безрезультатны.\\n\\n5. **Колонизация Бразилии португальцами**: В начале XVI века началась колонизация португальцами Бразилии.\\n\\nЭти завоевания и колонизация положили начало испанскому и португальскому господству в Америке, оказав глубокое влияние на indigenous население и ход истории региона.'"
      ]
     },
     "metadata": {},
     "output_type": "display_data"
    }
   ],
   "source": [
    "response"
   ]
  },
  {
   "cell_type": "markdown",
   "id": "b39a0e66",
   "metadata": {},
   "source": [
    "#### Creating a Custom Module and Registering it in the Dependency Container\n",
    "\n",
    "The easiest way to integrate your own module is by registering it in the DI container through `ADAPTER_REGISTRY`.  \n",
    "This lowers the entry barrier and simplifies integration.\n",
    "\n",
    "Steps:\n",
    "\n",
    "- Implement your custom class that adheres to the port interface (see `ragbee_fw.core.ports`).  \n",
    "  You’ll also find abstract base classes there to guide and validate your implementation.\n",
    "- Register your module in the `ADAPTER_REGISTRY`.\n",
    "- Define your module in the `config.yml` file.\n",
    "- Proceed with the standard generation process using the DI container.\n"
   ]
  },
  {
   "cell_type": "code",
   "execution_count": 1,
   "id": "6bf36ead",
   "metadata": {},
   "outputs": [],
   "source": [
    "from ragbee_fw.core.ports.llm_port import LLMPort, BaseLLM\n",
    "from ragbee_fw import DIContainer, ADAPTER_REGISTRY\n"
   ]
  },
  {
   "cell_type": "code",
   "execution_count": 2,
   "id": "e5054912",
   "metadata": {},
   "outputs": [
    {
     "data": {
      "text/plain": [
       "{'data_loader': {'file_loader': ragbee_fw.infrastructure.data_loader.file_loader.FileSystemLoader},\n",
       " 'text_chunker': {'recursive_splitter': ragbee_fw.infrastructure.text_splitter.recursive_text_splitter.RecursiveTextSplitter},\n",
       " 'retriever': {'bm25': ragbee_fw.infrastructure.retriever.bm25_client.BM25Client},\n",
       " 'llm': {'HF': ragbee_fw.infrastructure.llm_clients.huggingface_client.HuggingFaceInferenceAdapter}}"
      ]
     },
     "metadata": {},
     "output_type": "display_data"
    }
   ],
   "source": [
    "display(ADAPTER_REGISTRY)"
   ]
  },
  {
   "cell_type": "code",
   "execution_count": null,
   "id": "886e1a53",
   "metadata": {},
   "outputs": [],
   "source": [
    "class MyDummyResponce(LLMPort):\n",
    "    def generate(self, prompt: str):\n",
    "        # custom logic goes here\n",
    "        return f\"I got {len(prompt)} chars in out prompt: {prompt}\"\n"
   ]
  },
  {
   "cell_type": "code",
   "execution_count": 4,
   "id": "8adea9f0",
   "metadata": {},
   "outputs": [],
   "source": [
    "DIContainer.register_adapter(component=\"llm\", \n",
    "                           adapter_type=\"dummy\",\n",
    "                           cls=MyDummyResponce)"
   ]
  },
  {
   "cell_type": "code",
   "execution_count": 5,
   "id": "e575b010",
   "metadata": {},
   "outputs": [
    {
     "data": {
      "text/plain": [
       "{'data_loader': {'file_loader': ragbee_fw.infrastructure.data_loader.file_loader.FileSystemLoader},\n",
       " 'text_chunker': {'recursive_splitter': ragbee_fw.infrastructure.text_splitter.recursive_text_splitter.RecursiveTextSplitter},\n",
       " 'retriever': {'bm25': ragbee_fw.infrastructure.retriever.bm25_client.BM25Client},\n",
       " 'llm': {'HF': ragbee_fw.infrastructure.llm_clients.huggingface_client.HuggingFaceInferenceAdapter,\n",
       "  'dummy': __main__.MyDummyResponce}}"
      ]
     },
     "metadata": {},
     "output_type": "display_data"
    }
   ],
   "source": [
    "display(ADAPTER_REGISTRY)"
   ]
  },
  {
   "cell_type": "markdown",
   "id": "aa751092",
   "metadata": {},
   "source": [
    "Once registered, your module becomes available to the DI container and can replace the default implementation in the pipeline.\n",
    "\n",
    "The next step is to define it in the `config.yml` file:\n",
    "\n",
    "```yaml\n",
    "# config_app.yml\n",
    "llm:\n",
    "  type: dummy\n",
    "  model_name: any_name\n",
    "  token: \"\"\n",
    "  provider: \"\"\n",
    "  prompt: \"\"\n",
    "  max_new_tokens: 0\n",
    "```\n",
    "\n",
    "In this example, however, we will directly modify the loaded Pydantic config object instead of editing the YAML file."
   ]
  },
  {
   "cell_type": "code",
   "execution_count": 6,
   "id": "689547c6",
   "metadata": {},
   "outputs": [],
   "source": [
    "from ragbee_fw import load_config\n",
    "\n",
    "app_config_path = \"/workspace/src/ragbee_fw/config/app_config.yml\"\n",
    "app_config = load_config(app_config_path)"
   ]
  },
  {
   "cell_type": "code",
   "execution_count": 7,
   "id": "6a4ad81f",
   "metadata": {},
   "outputs": [],
   "source": [
    "from ragbee_fw.core.models.app_config import LLM\n",
    "\n",
    "\n",
    "app_config.llm = LLM(**{\n",
    "    \"type\": \"dummy\",\n",
    "    \"model_name\": \"any_name\",\n",
    "    \"token\": \"\",\n",
    "    \"provider\": \"\",\n",
    "    \"prompt\": \"\",\n",
    "    \"max_new_tokens\": 0,\n",
    "})"
   ]
  },
  {
   "cell_type": "markdown",
   "id": "2dd53e12",
   "metadata": {},
   "source": [
    "> 💡 **Tip:** The `load_config(...)` function returns a Pydantic model instance.  \n",
    "> This means you can interact with it just like any other Python object:\n",
    ">\n",
    "> - update fields directly (`app_config.llm = ...`),\n",
    "> - validate values,\n",
    "> - export using `.dict()` or `.json()`.\n",
    ">\n",
    "To save the configuration back to YAML:\n",
    "\n",
    "```python\n",
    "from pathlib import Path\n",
    "import yaml\n",
    "\n",
    "with Path(\"new_config.yml\").open(\"w\", encoding=\"utf-8\") as f:\n",
    "    yaml.safe_dump(app_config.dict(), f, allow_unicode=True)\n",
    "```"
   ]
  },
  {
   "cell_type": "code",
   "execution_count": 8,
   "id": "438b3e80",
   "metadata": {},
   "outputs": [
    {
     "data": {
      "text/plain": [
       "LLM(type='dummy', model_name='any_name', token='', provider='', base_url=None, prompt='', max_new_tokens=0, return_full_response=False, params=None)"
      ]
     },
     "metadata": {},
     "output_type": "display_data"
    }
   ],
   "source": [
    "display(app_config.llm)"
   ]
  },
  {
   "cell_type": "markdown",
   "id": "afb5bb23",
   "metadata": {},
   "source": [
    "Now you have an application configuration object that includes your custom LLM module (e.g., `MyDummyResponse`).  \n",
    "From here, you can proceed with the standard framework usage."
   ]
  },
  {
   "cell_type": "code",
   "execution_count": 9,
   "id": "3c6a83e3",
   "metadata": {},
   "outputs": [],
   "source": [
    "container = DIContainer(app_config)\n",
    "app = container.build_app_service()"
   ]
  },
  {
   "cell_type": "code",
   "execution_count": 10,
   "id": "6b39ff9a",
   "metadata": {},
   "outputs": [],
   "source": [
    "response = app.generate_answer(query=\"какие были Испанские завоевания в Америке?\")"
   ]
  },
  {
   "cell_type": "code",
   "execution_count": 11,
   "id": "a8b5620f",
   "metadata": {},
   "outputs": [
    {
     "data": {
      "text/plain": [
       "'I got 4150 chars in out prompt: Based on the following fragments:\\n\\n[1]  прибыль.   Испанские завоевания в Америке.\\n   В 1518 г. испанский губернатор острова Кубы послал экспедицию из 600 человек во главе с Фернандо Кортесом в только что открытую Мексику. Кортес сжег после высадки все корабли, чтобы нельзя было вернуться домой, и двинулся в глубь страны к государству ацтеков. Испанцы беспрепятственно проникли в столицу ацтеков Мехико. Ацтеки приняли белокожих испанцев за богов. Но мирные отношения быстро закончились. Испанцы учинили страшный погром. В 1521 г. Кортес окончательно захватил и разграбил Мехико. Страна была объявлена собственностью испанского короля.\\n   В 1532 г. Франциска Писарро вторгся в империю инков в Южной Америке и захватил в плен их правителя. К 1534 г. государство инков было уничтожено. В 1525–1535 гг. испанцы окончательно завоевали Венесуэлу. Здесь было найдено золото и возникла легенда о волшебной стране Эльдорадо, в которой много золота. Поиски Эльдорадо были безрезультатны.\\xa0В начале XVI в. началась колонизация португальцами Бразилии.\\n\\n[2]  Бразилии.   Испанские и португальские колонии.\\n   Европейские колонизаторы порабощали и эксплуатировали население Америки. Еще в первые годы пребывания испанцев на Эспаньоле там сложились определенные формы эксплуатации. Индейцев обращали в рабство на месте или вывозили в Испанию. Однако скоро рабство запретили, а индейцев объявили «свободными». В их порабощении не была заинтересована церковь, которая рассчитывала усилить свое влияние в колониях. Король видел в туземцах новых подданных. Но колонисты продолжали охотиться на индейцев и обращать их в рабство под предлогом, что это людоеды.\\n   «Свободные» индейцы должны были отбывать тяжелую трудовую повинность на рудниках или участках поселенцев из Испании Такая форма эксплуатации была распространена в Мексике и Перу. На островах Карибского моря местное население вскоре было практически уничтожено. Для пополнения недостатка в рабочей силе на острова стали ввозить рабов из Африки,\\n\\n[3]  заболеваний. заболеваний.   А вот какие интересные и важные открытия по части лечебных возможностей моркови были сделаны японским ученым, профессором Т. Хироямой. Исследования профессора, проводимые на протяжении 20 лет (с 1965 по 1985 год), касались взаимосвязи между образом жизни людей и подверженностью раковым заболеваниям. Ученым было обследовано около 265 тысяч человек в возрасте старше 40 лет — он изучал их привычки, особенности рациона, реакции организма. Результаты исследований позволили ученому сделать следующие выводы.\\n\\n[4]  Болгарию. Болгарию.   В 1402 г. османов разгромил правитель Самарканда Тимур. Но туркам удалось быстро восстановить свои силы. Новые их завоевания связаны с султаном Мехмедом II Завоевателем. В апреле 1453 г. турецкая армия в 150 тыс. человек появилась под стенами Константинополя. Им противостояло менее 10 тыс. греков и наемников. Штурм города произошел в мае 1453 г. Большинство его защитников пало в бою. В их числе был и последний византийский император Константин XI Палеолог. Мехмед II объявил город своей столицей под названием Стамбул.\\n   Затем турки захватили Сербию. В 1456 г. вассалом Турции стала Молдавия. Были разбиты венецианцы. В 1480 г. турецкие войска высадились в Италии, но закрепиться там не смогли. После смерти Мехмеда II завоевания на Балканах продолжались. Вассалом султана стало Крымское ханство. Позже была захвачена Венгрия. Опустошительным набегам подвергались Польша, Австрия, Россия, другие страны. Турки начали захваты в Азии и Северной Африке.\\n\\n[5]  покупку. покупку.   Когда вы можете согласиться с отрицательным комментарием, вы оказываетесь способны разрядить обстановку. Представьте себе босса, который после ряда претензий и замечаний в сторону подчиненного заключает:\\n   — И, кроме того, у вас самый уродливый галстук из всех, какие я только видел!\\n   А служащий, внимательно рассмотрев галстук, вдруг отвечает:\\n   — Вы правы — он уродлив.\\n\\n   Что может в этой ситуации сделать начальник? Да только посмеяться вместе с тем, кого он только что ругал. И осознать, что, в конце концов, они понимают друг друга.\\n\\nAnswer the question: «какие были Испанские завоевания в Америке?»'"
      ]
     },
     "execution_count": 11,
     "metadata": {},
     "output_type": "execute_result"
    }
   ],
   "source": [
    "response"
   ]
  },
  {
   "cell_type": "code",
   "execution_count": null,
   "id": "b5fb21f9",
   "metadata": {},
   "outputs": [],
   "source": []
  }
 ],
 "metadata": {
  "kernelspec": {
   "display_name": "Python 3",
   "language": "python",
   "name": "python3"
  },
  "language_info": {
   "codemirror_mode": {
    "name": "ipython",
    "version": 3
   },
   "file_extension": ".py",
   "mimetype": "text/x-python",
   "name": "python",
   "nbconvert_exporter": "python",
   "pygments_lexer": "ipython3",
   "version": "3.10.12"
  }
 },
 "nbformat": 4,
 "nbformat_minor": 5
}
